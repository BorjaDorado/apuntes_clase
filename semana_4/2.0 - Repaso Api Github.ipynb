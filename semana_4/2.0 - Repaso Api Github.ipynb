{
 "cells": [
  {
   "cell_type": "code",
   "execution_count": 1,
   "id": "2289952d",
   "metadata": {},
   "outputs": [],
   "source": [
    "import requests as req"
   ]
  },
  {
   "cell_type": "markdown",
   "id": "fcba9d71",
   "metadata": {},
   "source": [
    "https://github.com/ironhack-datalabs/scavenger"
   ]
  },
  {
   "cell_type": "code",
   "execution_count": 10,
   "id": "ca81c266",
   "metadata": {},
   "outputs": [],
   "source": [
    "url ='https://api.github.com/repos/ironhack-datalabs/scavenger/contents?extension:scavengerhunt'"
   ]
  },
  {
   "cell_type": "code",
   "execution_count": 11,
   "id": "d8887907",
   "metadata": {},
   "outputs": [],
   "source": [
    "res = req.get(url)"
   ]
  },
  {
   "cell_type": "code",
   "execution_count": 13,
   "id": "6607ad8f",
   "metadata": {},
   "outputs": [],
   "source": [
    "lst = res.json()"
   ]
  },
  {
   "cell_type": "code",
   "execution_count": 15,
   "id": "ae7d14a1",
   "metadata": {},
   "outputs": [
    {
     "data": {
      "text/plain": [
       "{'name': '15024',\n",
       " 'path': '15024',\n",
       " 'sha': '2945e51c87ad5da893c954afcf092f06343bbb7d',\n",
       " 'size': 0,\n",
       " 'url': 'https://api.github.com/repos/ironhack-datalabs/scavenger/contents/15024?ref=master',\n",
       " 'html_url': 'https://github.com/ironhack-datalabs/scavenger/tree/master/15024',\n",
       " 'git_url': 'https://api.github.com/repos/ironhack-datalabs/scavenger/git/trees/2945e51c87ad5da893c954afcf092f06343bbb7d',\n",
       " 'download_url': None,\n",
       " 'type': 'dir',\n",
       " '_links': {'self': 'https://api.github.com/repos/ironhack-datalabs/scavenger/contents/15024?ref=master',\n",
       "  'git': 'https://api.github.com/repos/ironhack-datalabs/scavenger/git/trees/2945e51c87ad5da893c954afcf092f06343bbb7d',\n",
       "  'html': 'https://github.com/ironhack-datalabs/scavenger/tree/master/15024'}}"
      ]
     },
     "execution_count": 15,
     "metadata": {},
     "output_type": "execute_result"
    }
   ],
   "source": [
    "lst[1]"
   ]
  },
  {
   "cell_type": "code",
   "execution_count": 19,
   "id": "41cde89f",
   "metadata": {},
   "outputs": [
    {
     "data": {
      "text/plain": [
       "[{'name': '.0006.scavengerhunt',\n",
       "  'path': '15024/.0006.scavengerhunt',\n",
       "  'sha': '1c9064284a24b3486015eafdb391b141c27ada2b',\n",
       "  'size': 3,\n",
       "  'url': 'https://api.github.com/repos/ironhack-datalabs/scavenger/contents/15024/.0006.scavengerhunt?ref=master',\n",
       "  'html_url': 'https://github.com/ironhack-datalabs/scavenger/blob/master/15024/.0006.scavengerhunt',\n",
       "  'git_url': 'https://api.github.com/repos/ironhack-datalabs/scavenger/git/blobs/1c9064284a24b3486015eafdb391b141c27ada2b',\n",
       "  'download_url': 'https://raw.githubusercontent.com/ironhack-datalabs/scavenger/master/15024/.0006.scavengerhunt',\n",
       "  'type': 'file',\n",
       "  '_links': {'self': 'https://api.github.com/repos/ironhack-datalabs/scavenger/contents/15024/.0006.scavengerhunt?ref=master',\n",
       "   'git': 'https://api.github.com/repos/ironhack-datalabs/scavenger/git/blobs/1c9064284a24b3486015eafdb391b141c27ada2b',\n",
       "   'html': 'https://github.com/ironhack-datalabs/scavenger/blob/master/15024/.0006.scavengerhunt'}},\n",
       " {'name': '40',\n",
       "  'path': '15024/40',\n",
       "  'sha': 'e69de29bb2d1d6434b8b29ae775ad8c2e48c5391',\n",
       "  'size': 0,\n",
       "  'url': 'https://api.github.com/repos/ironhack-datalabs/scavenger/contents/15024/40?ref=master',\n",
       "  'html_url': 'https://github.com/ironhack-datalabs/scavenger/blob/master/15024/40',\n",
       "  'git_url': 'https://api.github.com/repos/ironhack-datalabs/scavenger/git/blobs/e69de29bb2d1d6434b8b29ae775ad8c2e48c5391',\n",
       "  'download_url': 'https://raw.githubusercontent.com/ironhack-datalabs/scavenger/master/15024/40',\n",
       "  'type': 'file',\n",
       "  '_links': {'self': 'https://api.github.com/repos/ironhack-datalabs/scavenger/contents/15024/40?ref=master',\n",
       "   'git': 'https://api.github.com/repos/ironhack-datalabs/scavenger/git/blobs/e69de29bb2d1d6434b8b29ae775ad8c2e48c5391',\n",
       "   'html': 'https://github.com/ironhack-datalabs/scavenger/blob/master/15024/40'}},\n",
       " {'name': '74',\n",
       "  'path': '15024/74',\n",
       "  'sha': 'e69de29bb2d1d6434b8b29ae775ad8c2e48c5391',\n",
       "  'size': 0,\n",
       "  'url': 'https://api.github.com/repos/ironhack-datalabs/scavenger/contents/15024/74?ref=master',\n",
       "  'html_url': 'https://github.com/ironhack-datalabs/scavenger/blob/master/15024/74',\n",
       "  'git_url': 'https://api.github.com/repos/ironhack-datalabs/scavenger/git/blobs/e69de29bb2d1d6434b8b29ae775ad8c2e48c5391',\n",
       "  'download_url': 'https://raw.githubusercontent.com/ironhack-datalabs/scavenger/master/15024/74',\n",
       "  'type': 'file',\n",
       "  '_links': {'self': 'https://api.github.com/repos/ironhack-datalabs/scavenger/contents/15024/74?ref=master',\n",
       "   'git': 'https://api.github.com/repos/ironhack-datalabs/scavenger/git/blobs/e69de29bb2d1d6434b8b29ae775ad8c2e48c5391',\n",
       "   'html': 'https://github.com/ironhack-datalabs/scavenger/blob/master/15024/74'}},\n",
       " {'name': '99',\n",
       "  'path': '15024/99',\n",
       "  'sha': 'e69de29bb2d1d6434b8b29ae775ad8c2e48c5391',\n",
       "  'size': 0,\n",
       "  'url': 'https://api.github.com/repos/ironhack-datalabs/scavenger/contents/15024/99?ref=master',\n",
       "  'html_url': 'https://github.com/ironhack-datalabs/scavenger/blob/master/15024/99',\n",
       "  'git_url': 'https://api.github.com/repos/ironhack-datalabs/scavenger/git/blobs/e69de29bb2d1d6434b8b29ae775ad8c2e48c5391',\n",
       "  'download_url': 'https://raw.githubusercontent.com/ironhack-datalabs/scavenger/master/15024/99',\n",
       "  'type': 'file',\n",
       "  '_links': {'self': 'https://api.github.com/repos/ironhack-datalabs/scavenger/contents/15024/99?ref=master',\n",
       "   'git': 'https://api.github.com/repos/ironhack-datalabs/scavenger/git/blobs/e69de29bb2d1d6434b8b29ae775ad8c2e48c5391',\n",
       "   'html': 'https://github.com/ironhack-datalabs/scavenger/blob/master/15024/99'}}]"
      ]
     },
     "execution_count": 19,
     "metadata": {},
     "output_type": "execute_result"
    }
   ],
   "source": [
    "req.get(lst[1]['url']).json()"
   ]
  },
  {
   "cell_type": "code",
   "execution_count": 22,
   "id": "83df007e",
   "metadata": {},
   "outputs": [
    {
     "data": {
      "text/plain": [
       "'of\\n'"
      ]
     },
     "execution_count": 22,
     "metadata": {},
     "output_type": "execute_result"
    }
   ],
   "source": [
    "req.get(req.get(lst[1]['url']).json()[0]['download_url']).text"
   ]
  },
  {
   "cell_type": "code",
   "execution_count": 33,
   "id": "747c1938",
   "metadata": {},
   "outputs": [
    {
     "data": {
      "text/plain": [
       "{'name': '.0008.scavengerhunt',\n",
       " 'path': '15534/.0008.scavengerhunt',\n",
       " 'sha': 'e351fb73264581ce26504b97ef07daea35116f32',\n",
       " 'size': 6,\n",
       " 'url': 'https://api.github.com/repos/ironhack-datalabs/scavenger/contents/15534/.0008.scavengerhunt?ref=master',\n",
       " 'html_url': 'https://github.com/ironhack-datalabs/scavenger/blob/master/15534/.0008.scavengerhunt',\n",
       " 'git_url': 'https://api.github.com/repos/ironhack-datalabs/scavenger/git/blobs/e351fb73264581ce26504b97ef07daea35116f32',\n",
       " 'download_url': 'https://raw.githubusercontent.com/ironhack-datalabs/scavenger/master/15534/.0008.scavengerhunt',\n",
       " 'type': 'file',\n",
       " '_links': {'self': 'https://api.github.com/repos/ironhack-datalabs/scavenger/contents/15534/.0008.scavengerhunt?ref=master',\n",
       "  'git': 'https://api.github.com/repos/ironhack-datalabs/scavenger/git/blobs/e351fb73264581ce26504b97ef07daea35116f32',\n",
       "  'html': 'https://github.com/ironhack-datalabs/scavenger/blob/master/15534/.0008.scavengerhunt'}}"
      ]
     },
     "execution_count": 33,
     "metadata": {},
     "output_type": "execute_result"
    }
   ],
   "source": [
    "req.get(lst[2]['url']).json()[0]"
   ]
  },
  {
   "cell_type": "code",
   "execution_count": 35,
   "id": "de324fec",
   "metadata": {},
   "outputs": [
    {
     "name": "stdout",
     "output_type": "stream",
     "text": [
      "{'name': '.gitignore', 'path': '.gitignore', 'sha': 'e43b0f988953ae3a84b00331d0ccf5f7d51cb3cf', 'size': 10, 'url': 'https://api.github.com/repos/ironhack-datalabs/scavenger/contents/.gitignore?ref=master', 'html_url': 'https://github.com/ironhack-datalabs/scavenger/blob/master/.gitignore', 'git_url': 'https://api.github.com/repos/ironhack-datalabs/scavenger/git/blobs/e43b0f988953ae3a84b00331d0ccf5f7d51cb3cf', 'download_url': 'https://raw.githubusercontent.com/ironhack-datalabs/scavenger/master/.gitignore', 'type': 'file', '_links': {'self': 'https://api.github.com/repos/ironhack-datalabs/scavenger/contents/.gitignore?ref=master', 'git': 'https://api.github.com/repos/ironhack-datalabs/scavenger/git/blobs/e43b0f988953ae3a84b00331d0ccf5f7d51cb3cf', 'html': 'https://github.com/ironhack-datalabs/scavenger/blob/master/.gitignore'}}\n"
     ]
    },
    {
     "data": {
      "text/plain": [
       "[{'name': '.0006.scavengerhunt',\n",
       "  'url': 'https://raw.githubusercontent.com/ironhack-datalabs/scavenger/master/15024/.0006.scavengerhunt'},\n",
       " {'name': '.0008.scavengerhunt',\n",
       "  'url': 'https://raw.githubusercontent.com/ironhack-datalabs/scavenger/master/15534/.0008.scavengerhunt'},\n",
       " {'name': '.0007.scavengerhunt',\n",
       "  'url': 'https://raw.githubusercontent.com/ironhack-datalabs/scavenger/master/17020/.0007.scavengerhunt'},\n",
       " {'name': '.0021.scavengerhunt',\n",
       "  'url': 'https://raw.githubusercontent.com/ironhack-datalabs/scavenger/master/30351/.0021.scavengerhunt'},\n",
       " {'name': '.0022.scavengerhunt',\n",
       "  'url': 'https://raw.githubusercontent.com/ironhack-datalabs/scavenger/master/40303/.0022.scavengerhunt'},\n",
       " {'name': '.0005.scavengerhunt',\n",
       "  'url': 'https://raw.githubusercontent.com/ironhack-datalabs/scavenger/master/44639/.0005.scavengerhunt'},\n",
       " {'name': '.0018.scavengerhunt',\n",
       "  'url': 'https://raw.githubusercontent.com/ironhack-datalabs/scavenger/master/45525/.0018.scavengerhunt'},\n",
       " {'name': '.0016.scavengerhunt',\n",
       "  'url': 'https://raw.githubusercontent.com/ironhack-datalabs/scavenger/master/47222/.0016.scavengerhunt'},\n",
       " {'name': '.0010.scavengerhunt',\n",
       "  'url': 'https://raw.githubusercontent.com/ironhack-datalabs/scavenger/master/47830/.0010.scavengerhunt'},\n",
       " {'name': '.0014.scavengerhunt',\n",
       "  'url': 'https://raw.githubusercontent.com/ironhack-datalabs/scavenger/master/49418/.0014.scavengerhunt'},\n",
       " {'name': '.0011.scavengerhunt',\n",
       "  'url': 'https://raw.githubusercontent.com/ironhack-datalabs/scavenger/master/50896/.0011.scavengerhunt'},\n",
       " {'name': '.0023.scavengerhunt',\n",
       "  'url': 'https://raw.githubusercontent.com/ironhack-datalabs/scavenger/master/55417/.0023.scavengerhunt'},\n",
       " {'name': '.0020.scavengerhunt',\n",
       "  'url': 'https://raw.githubusercontent.com/ironhack-datalabs/scavenger/master/55685/.0020.scavengerhunt'},\n",
       " {'name': '.0003.scavengerhunt',\n",
       "  'url': 'https://raw.githubusercontent.com/ironhack-datalabs/scavenger/master/60224/.0003.scavengerhunt'},\n",
       " {'name': '3',\n",
       "  'url': 'https://raw.githubusercontent.com/ironhack-datalabs/scavenger/master/64880/3'},\n",
       " {'name': '28',\n",
       "  'url': 'https://raw.githubusercontent.com/ironhack-datalabs/scavenger/master/66032/28'},\n",
       " {'name': '.0004.scavengerhunt',\n",
       "  'url': 'https://raw.githubusercontent.com/ironhack-datalabs/scavenger/master/68848/.0004.scavengerhunt'},\n",
       " {'name': '.0019.scavengerhunt',\n",
       "  'url': 'https://raw.githubusercontent.com/ironhack-datalabs/scavenger/master/70751/.0019.scavengerhunt'},\n",
       " {'name': '.0017.scavengerhunt',\n",
       "  'url': 'https://raw.githubusercontent.com/ironhack-datalabs/scavenger/master/70985/.0017.scavengerhunt'},\n",
       " {'name': '.0002.scavengerhunt',\n",
       "  'url': 'https://raw.githubusercontent.com/ironhack-datalabs/scavenger/master/88596/.0002.scavengerhunt'},\n",
       " {'name': '64',\n",
       "  'url': 'https://raw.githubusercontent.com/ironhack-datalabs/scavenger/master/89046/64'},\n",
       " {'name': '.0013.scavengerhunt',\n",
       "  'url': 'https://raw.githubusercontent.com/ironhack-datalabs/scavenger/master/89338/.0013.scavengerhunt'},\n",
       " {'name': '.0015.scavengerhunt',\n",
       "  'url': 'https://raw.githubusercontent.com/ironhack-datalabs/scavenger/master/91701/.0015.scavengerhunt'},\n",
       " {'name': '.0009.scavengerhunt',\n",
       "  'url': 'https://raw.githubusercontent.com/ironhack-datalabs/scavenger/master/97881/.0009.scavengerhunt'},\n",
       " {'name': '.0001.scavengerhunt',\n",
       "  'url': 'https://raw.githubusercontent.com/ironhack-datalabs/scavenger/master/98750/.0001.scavengerhunt'}]"
      ]
     },
     "execution_count": 35,
     "metadata": {},
     "output_type": "execute_result"
    }
   ],
   "source": [
    "raw_data = []\n",
    "\n",
    "\n",
    "for e in lst:\n",
    "    \n",
    "    try:\n",
    "        data = req.get(e['url']).json()[0]\n",
    "\n",
    "        raw_data.append({'name': data['name'],\n",
    "                         'url': data['download_url']})\n",
    "    except:\n",
    "        print(e)\n",
    "\n",
    "    \n",
    "raw_data"
   ]
  },
  {
   "cell_type": "code",
   "execution_count": 40,
   "id": "ca4d3a1a",
   "metadata": {},
   "outputs": [],
   "source": [
    "raw_data = sorted(raw_data, key=lambda x: x['name'])"
   ]
  },
  {
   "cell_type": "code",
   "execution_count": 42,
   "id": "73206b81",
   "metadata": {},
   "outputs": [],
   "source": [
    "raw_data = raw_data[:-3]"
   ]
  },
  {
   "cell_type": "code",
   "execution_count": 43,
   "id": "ce405756",
   "metadata": {},
   "outputs": [],
   "source": [
    "respuesta = ''\n",
    "\n",
    "\n",
    "for e in raw_data:\n",
    "    \n",
    "    resp = req.get(e['url']).text\n",
    "    \n",
    "    \n",
    "    respuesta+=resp"
   ]
  },
  {
   "cell_type": "code",
   "execution_count": 46,
   "id": "b3e372d6",
   "metadata": {},
   "outputs": [
    {
     "name": "stdout",
     "output_type": "stream",
     "text": [
      "In data science, 80 percent of time spent is preparing data, percent of time is spent complaining about the need to prepare \n"
     ]
    }
   ],
   "source": [
    "print(respuesta.replace('\\n', ' '))"
   ]
  },
  {
   "cell_type": "code",
   "execution_count": 47,
   "id": "db3301ec",
   "metadata": {},
   "outputs": [
    {
     "data": {
      "text/plain": [
       "[{'name': '.0001.scavengerhunt',\n",
       "  'url': 'https://raw.githubusercontent.com/ironhack-datalabs/scavenger/master/98750/.0001.scavengerhunt'},\n",
       " {'name': '.0002.scavengerhunt',\n",
       "  'url': 'https://raw.githubusercontent.com/ironhack-datalabs/scavenger/master/88596/.0002.scavengerhunt'},\n",
       " {'name': '.0003.scavengerhunt',\n",
       "  'url': 'https://raw.githubusercontent.com/ironhack-datalabs/scavenger/master/60224/.0003.scavengerhunt'},\n",
       " {'name': '.0004.scavengerhunt',\n",
       "  'url': 'https://raw.githubusercontent.com/ironhack-datalabs/scavenger/master/68848/.0004.scavengerhunt'},\n",
       " {'name': '.0005.scavengerhunt',\n",
       "  'url': 'https://raw.githubusercontent.com/ironhack-datalabs/scavenger/master/44639/.0005.scavengerhunt'},\n",
       " {'name': '.0006.scavengerhunt',\n",
       "  'url': 'https://raw.githubusercontent.com/ironhack-datalabs/scavenger/master/15024/.0006.scavengerhunt'},\n",
       " {'name': '.0007.scavengerhunt',\n",
       "  'url': 'https://raw.githubusercontent.com/ironhack-datalabs/scavenger/master/17020/.0007.scavengerhunt'},\n",
       " {'name': '.0008.scavengerhunt',\n",
       "  'url': 'https://raw.githubusercontent.com/ironhack-datalabs/scavenger/master/15534/.0008.scavengerhunt'},\n",
       " {'name': '.0009.scavengerhunt',\n",
       "  'url': 'https://raw.githubusercontent.com/ironhack-datalabs/scavenger/master/97881/.0009.scavengerhunt'},\n",
       " {'name': '.0010.scavengerhunt',\n",
       "  'url': 'https://raw.githubusercontent.com/ironhack-datalabs/scavenger/master/47830/.0010.scavengerhunt'},\n",
       " {'name': '.0011.scavengerhunt',\n",
       "  'url': 'https://raw.githubusercontent.com/ironhack-datalabs/scavenger/master/50896/.0011.scavengerhunt'},\n",
       " {'name': '.0013.scavengerhunt',\n",
       "  'url': 'https://raw.githubusercontent.com/ironhack-datalabs/scavenger/master/89338/.0013.scavengerhunt'},\n",
       " {'name': '.0014.scavengerhunt',\n",
       "  'url': 'https://raw.githubusercontent.com/ironhack-datalabs/scavenger/master/49418/.0014.scavengerhunt'},\n",
       " {'name': '.0015.scavengerhunt',\n",
       "  'url': 'https://raw.githubusercontent.com/ironhack-datalabs/scavenger/master/91701/.0015.scavengerhunt'},\n",
       " {'name': '.0016.scavengerhunt',\n",
       "  'url': 'https://raw.githubusercontent.com/ironhack-datalabs/scavenger/master/47222/.0016.scavengerhunt'},\n",
       " {'name': '.0017.scavengerhunt',\n",
       "  'url': 'https://raw.githubusercontent.com/ironhack-datalabs/scavenger/master/70985/.0017.scavengerhunt'},\n",
       " {'name': '.0018.scavengerhunt',\n",
       "  'url': 'https://raw.githubusercontent.com/ironhack-datalabs/scavenger/master/45525/.0018.scavengerhunt'},\n",
       " {'name': '.0019.scavengerhunt',\n",
       "  'url': 'https://raw.githubusercontent.com/ironhack-datalabs/scavenger/master/70751/.0019.scavengerhunt'},\n",
       " {'name': '.0020.scavengerhunt',\n",
       "  'url': 'https://raw.githubusercontent.com/ironhack-datalabs/scavenger/master/55685/.0020.scavengerhunt'},\n",
       " {'name': '.0021.scavengerhunt',\n",
       "  'url': 'https://raw.githubusercontent.com/ironhack-datalabs/scavenger/master/30351/.0021.scavengerhunt'},\n",
       " {'name': '.0022.scavengerhunt',\n",
       "  'url': 'https://raw.githubusercontent.com/ironhack-datalabs/scavenger/master/40303/.0022.scavengerhunt'},\n",
       " {'name': '.0023.scavengerhunt',\n",
       "  'url': 'https://raw.githubusercontent.com/ironhack-datalabs/scavenger/master/55417/.0023.scavengerhunt'}]"
      ]
     },
     "execution_count": 47,
     "metadata": {},
     "output_type": "execute_result"
    }
   ],
   "source": [
    "raw_data"
   ]
  },
  {
   "cell_type": "code",
   "execution_count": null,
   "id": "eb13b096",
   "metadata": {},
   "outputs": [],
   "source": []
  }
 ],
 "metadata": {
  "kernelspec": {
   "display_name": "clase",
   "language": "python",
   "name": "clase"
  },
  "language_info": {
   "codemirror_mode": {
    "name": "ipython",
    "version": 3
   },
   "file_extension": ".py",
   "mimetype": "text/x-python",
   "name": "python",
   "nbconvert_exporter": "python",
   "pygments_lexer": "ipython3",
   "version": "3.9.12"
  }
 },
 "nbformat": 4,
 "nbformat_minor": 5
}
