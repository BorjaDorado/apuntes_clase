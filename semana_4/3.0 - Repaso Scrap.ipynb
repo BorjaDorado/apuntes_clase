{
 "cells": [
  {
   "cell_type": "code",
   "execution_count": 25,
   "id": "5cc20ab8",
   "metadata": {},
   "outputs": [],
   "source": [
    "import requests  as req\n",
    "from bs4 import BeautifulSoup as bs\n",
    "\n",
    "import pandas as pd"
   ]
  },
  {
   "cell_type": "code",
   "execution_count": 2,
   "id": "3ec9bece",
   "metadata": {},
   "outputs": [],
   "source": [
    "url = 'https://en.wikipedia.org/wiki/List_of_languages_by_number_of_native_speakers'"
   ]
  },
  {
   "cell_type": "code",
   "execution_count": 3,
   "id": "5e651554",
   "metadata": {},
   "outputs": [],
   "source": [
    "html = req.get(url).text\n",
    "\n",
    "sopa = bs(html, 'html.parser')"
   ]
  },
  {
   "cell_type": "code",
   "execution_count": 7,
   "id": "4d207a13",
   "metadata": {},
   "outputs": [],
   "source": [
    "tabla = sopa.find('table')"
   ]
  },
  {
   "cell_type": "code",
   "execution_count": 13,
   "id": "ebacf29d",
   "metadata": {},
   "outputs": [
    {
     "data": {
      "text/plain": [
       "'Language'"
      ]
     },
     "execution_count": 13,
     "metadata": {},
     "output_type": "execute_result"
    }
   ],
   "source": [
    "tabla.find_all('th')[0].text.strip()"
   ]
  },
  {
   "cell_type": "code",
   "execution_count": 15,
   "id": "99624fb3",
   "metadata": {},
   "outputs": [
    {
     "data": {
      "text/plain": [
       "['Language', 'Native speakers(millions)', 'Language family', 'Branch']"
      ]
     },
     "execution_count": 15,
     "metadata": {},
     "output_type": "execute_result"
    }
   ],
   "source": [
    "cabeceras = [e.text.strip() for e in tabla.find_all('th')]\n",
    "\n",
    "cabeceras"
   ]
  },
  {
   "cell_type": "code",
   "execution_count": 19,
   "id": "98513a8d",
   "metadata": {},
   "outputs": [],
   "source": [
    "filas = tabla.find_all('tr')[1:]"
   ]
  },
  {
   "cell_type": "code",
   "execution_count": 22,
   "id": "8070d840",
   "metadata": {},
   "outputs": [
    {
     "data": {
      "text/plain": [
       "'Mandarin Chinese(incl. Standard Chinese, but excl. other varieties)'"
      ]
     },
     "execution_count": 22,
     "metadata": {},
     "output_type": "execute_result"
    }
   ],
   "source": [
    "filas[0].find_all('td')[0].text.strip()"
   ]
  },
  {
   "cell_type": "code",
   "execution_count": 23,
   "id": "9530aa6a",
   "metadata": {},
   "outputs": [
    {
     "data": {
      "text/plain": [
       "[['Mandarin Chinese(incl. Standard Chinese, but excl. other varieties)',\n",
       "  '939',\n",
       "  'Sino-Tibetan',\n",
       "  'Sinitic'],\n",
       " ['Spanish', '485', 'Indo-European', 'Romance'],\n",
       " ['English', '380', 'Indo-European', 'Germanic'],\n",
       " ['Hindi(excl. Urdu, and other languages)',\n",
       "  '345',\n",
       "  'Indo-European',\n",
       "  'Indo-Aryan'],\n",
       " ['Portuguese', '236', 'Indo-European', 'Romance']]"
      ]
     },
     "execution_count": 23,
     "metadata": {},
     "output_type": "execute_result"
    }
   ],
   "source": [
    "data = []\n",
    "\n",
    "\n",
    "for f in filas:\n",
    "    \n",
    "    tmp = []\n",
    "    \n",
    "    for e in f.find_all('td'):\n",
    "        \n",
    "        tmp.append(e.text.strip())\n",
    "        \n",
    "    data.append(tmp)\n",
    "    \n",
    "data[:5]"
   ]
  },
  {
   "cell_type": "code",
   "execution_count": 24,
   "id": "e02807ce",
   "metadata": {},
   "outputs": [
    {
     "data": {
      "text/plain": [
       "[['Mandarin Chinese(incl. Standard Chinese, but excl. other varieties)',\n",
       "  '939',\n",
       "  'Sino-Tibetan',\n",
       "  'Sinitic'],\n",
       " ['Spanish', '485', 'Indo-European', 'Romance'],\n",
       " ['English', '380', 'Indo-European', 'Germanic'],\n",
       " ['Hindi(excl. Urdu, and other languages)',\n",
       "  '345',\n",
       "  'Indo-European',\n",
       "  'Indo-Aryan'],\n",
       " ['Portuguese', '236', 'Indo-European', 'Romance']]"
      ]
     },
     "execution_count": 24,
     "metadata": {},
     "output_type": "execute_result"
    }
   ],
   "source": [
    "data = [[e.text.strip() for e in f.find_all('td')] for f in filas]\n",
    "\n",
    "data[:5]"
   ]
  },
  {
   "cell_type": "code",
   "execution_count": 26,
   "id": "30cd1db3",
   "metadata": {},
   "outputs": [
    {
     "data": {
      "text/html": [
       "<div>\n",
       "<style scoped>\n",
       "    .dataframe tbody tr th:only-of-type {\n",
       "        vertical-align: middle;\n",
       "    }\n",
       "\n",
       "    .dataframe tbody tr th {\n",
       "        vertical-align: top;\n",
       "    }\n",
       "\n",
       "    .dataframe thead th {\n",
       "        text-align: right;\n",
       "    }\n",
       "</style>\n",
       "<table border=\"1\" class=\"dataframe\">\n",
       "  <thead>\n",
       "    <tr style=\"text-align: right;\">\n",
       "      <th></th>\n",
       "      <th>Language</th>\n",
       "      <th>Native speakers(millions)</th>\n",
       "      <th>Language family</th>\n",
       "      <th>Branch</th>\n",
       "    </tr>\n",
       "  </thead>\n",
       "  <tbody>\n",
       "    <tr>\n",
       "      <th>0</th>\n",
       "      <td>Mandarin Chinese(incl. Standard Chinese, but e...</td>\n",
       "      <td>939</td>\n",
       "      <td>Sino-Tibetan</td>\n",
       "      <td>Sinitic</td>\n",
       "    </tr>\n",
       "    <tr>\n",
       "      <th>1</th>\n",
       "      <td>Spanish</td>\n",
       "      <td>485</td>\n",
       "      <td>Indo-European</td>\n",
       "      <td>Romance</td>\n",
       "    </tr>\n",
       "    <tr>\n",
       "      <th>2</th>\n",
       "      <td>English</td>\n",
       "      <td>380</td>\n",
       "      <td>Indo-European</td>\n",
       "      <td>Germanic</td>\n",
       "    </tr>\n",
       "    <tr>\n",
       "      <th>3</th>\n",
       "      <td>Hindi(excl. Urdu, and other languages)</td>\n",
       "      <td>345</td>\n",
       "      <td>Indo-European</td>\n",
       "      <td>Indo-Aryan</td>\n",
       "    </tr>\n",
       "    <tr>\n",
       "      <th>4</th>\n",
       "      <td>Portuguese</td>\n",
       "      <td>236</td>\n",
       "      <td>Indo-European</td>\n",
       "      <td>Romance</td>\n",
       "    </tr>\n",
       "    <tr>\n",
       "      <th>5</th>\n",
       "      <td>Bengali</td>\n",
       "      <td>234</td>\n",
       "      <td>Indo-European</td>\n",
       "      <td>Indo-Aryan</td>\n",
       "    </tr>\n",
       "    <tr>\n",
       "      <th>6</th>\n",
       "      <td>Russian</td>\n",
       "      <td>147</td>\n",
       "      <td>Indo-European</td>\n",
       "      <td>Balto-Slavic</td>\n",
       "    </tr>\n",
       "    <tr>\n",
       "      <th>7</th>\n",
       "      <td>Japanese</td>\n",
       "      <td>123</td>\n",
       "      <td>Japonic</td>\n",
       "      <td>Japanese</td>\n",
       "    </tr>\n",
       "    <tr>\n",
       "      <th>8</th>\n",
       "      <td>Yue Chinese(incl. Cantonese)</td>\n",
       "      <td>86.1</td>\n",
       "      <td>Sino-Tibetan</td>\n",
       "      <td>Sinitic</td>\n",
       "    </tr>\n",
       "    <tr>\n",
       "      <th>9</th>\n",
       "      <td>Vietnamese</td>\n",
       "      <td>85.0</td>\n",
       "      <td>Austroasiatic</td>\n",
       "      <td>Vietic</td>\n",
       "    </tr>\n",
       "    <tr>\n",
       "      <th>10</th>\n",
       "      <td>Turkish</td>\n",
       "      <td>84.0</td>\n",
       "      <td>Turkic</td>\n",
       "      <td>Oghuz</td>\n",
       "    </tr>\n",
       "    <tr>\n",
       "      <th>11</th>\n",
       "      <td>Wu Chinese(incl. Shanghainese)</td>\n",
       "      <td>83.4</td>\n",
       "      <td>Sino-Tibetan</td>\n",
       "      <td>Sinitic</td>\n",
       "    </tr>\n",
       "    <tr>\n",
       "      <th>12</th>\n",
       "      <td>Marathi</td>\n",
       "      <td>83.2</td>\n",
       "      <td>Indo-European</td>\n",
       "      <td>Indo-Aryan</td>\n",
       "    </tr>\n",
       "    <tr>\n",
       "      <th>13</th>\n",
       "      <td>Telugu</td>\n",
       "      <td>83.0</td>\n",
       "      <td>Dravidian</td>\n",
       "      <td>South-Central</td>\n",
       "    </tr>\n",
       "    <tr>\n",
       "      <th>14</th>\n",
       "      <td>Korean</td>\n",
       "      <td>81.7</td>\n",
       "      <td>Koreanic</td>\n",
       "      <td>—</td>\n",
       "    </tr>\n",
       "    <tr>\n",
       "      <th>15</th>\n",
       "      <td>French</td>\n",
       "      <td>80.8</td>\n",
       "      <td>Indo-European</td>\n",
       "      <td>Romance</td>\n",
       "    </tr>\n",
       "    <tr>\n",
       "      <th>16</th>\n",
       "      <td>Tamil</td>\n",
       "      <td>78.6</td>\n",
       "      <td>Dravidian</td>\n",
       "      <td>South</td>\n",
       "    </tr>\n",
       "    <tr>\n",
       "      <th>17</th>\n",
       "      <td>Egyptian Spoken Arabic(excl. Saʽidi Arabic)</td>\n",
       "      <td>77.4</td>\n",
       "      <td>Afroasiatic</td>\n",
       "      <td>Semitic</td>\n",
       "    </tr>\n",
       "    <tr>\n",
       "      <th>18</th>\n",
       "      <td>Standard German</td>\n",
       "      <td>75.3</td>\n",
       "      <td>Indo-European</td>\n",
       "      <td>Germanic</td>\n",
       "    </tr>\n",
       "    <tr>\n",
       "      <th>19</th>\n",
       "      <td>Urdu(excl. Hindi)</td>\n",
       "      <td>70.6</td>\n",
       "      <td>Indo-European</td>\n",
       "      <td>Indo-Aryan</td>\n",
       "    </tr>\n",
       "    <tr>\n",
       "      <th>20</th>\n",
       "      <td>Javanese</td>\n",
       "      <td>68.3</td>\n",
       "      <td>Austronesian</td>\n",
       "      <td>Malayo-Polynesian</td>\n",
       "    </tr>\n",
       "    <tr>\n",
       "      <th>21</th>\n",
       "      <td>Western Punjabi(excl. Eastern Punjabi)</td>\n",
       "      <td>66.7</td>\n",
       "      <td>Indo-European</td>\n",
       "      <td>Indo-Aryan</td>\n",
       "    </tr>\n",
       "    <tr>\n",
       "      <th>22</th>\n",
       "      <td>Italian</td>\n",
       "      <td>64.6</td>\n",
       "      <td>Indo-European</td>\n",
       "      <td>Romance</td>\n",
       "    </tr>\n",
       "    <tr>\n",
       "      <th>23</th>\n",
       "      <td>Gujarati</td>\n",
       "      <td>57.1</td>\n",
       "      <td>Indo-European</td>\n",
       "      <td>Indo-Aryan</td>\n",
       "    </tr>\n",
       "    <tr>\n",
       "      <th>24</th>\n",
       "      <td>Iranian Persian(excl. Dari and Tajik)</td>\n",
       "      <td>57.2</td>\n",
       "      <td>Indo-European</td>\n",
       "      <td>Iranian</td>\n",
       "    </tr>\n",
       "    <tr>\n",
       "      <th>25</th>\n",
       "      <td>Bhojpuri</td>\n",
       "      <td>52.3</td>\n",
       "      <td>Indo-European</td>\n",
       "      <td>Indo-Aryan</td>\n",
       "    </tr>\n",
       "    <tr>\n",
       "      <th>26</th>\n",
       "      <td>Hausa</td>\n",
       "      <td>51.7</td>\n",
       "      <td>Afroasiatic</td>\n",
       "      <td>Chadic</td>\n",
       "    </tr>\n",
       "  </tbody>\n",
       "</table>\n",
       "</div>"
      ],
      "text/plain": [
       "                                             Language  \\\n",
       "0   Mandarin Chinese(incl. Standard Chinese, but e...   \n",
       "1                                             Spanish   \n",
       "2                                             English   \n",
       "3              Hindi(excl. Urdu, and other languages)   \n",
       "4                                          Portuguese   \n",
       "5                                             Bengali   \n",
       "6                                             Russian   \n",
       "7                                            Japanese   \n",
       "8                        Yue Chinese(incl. Cantonese)   \n",
       "9                                          Vietnamese   \n",
       "10                                            Turkish   \n",
       "11                     Wu Chinese(incl. Shanghainese)   \n",
       "12                                            Marathi   \n",
       "13                                             Telugu   \n",
       "14                                             Korean   \n",
       "15                                             French   \n",
       "16                                              Tamil   \n",
       "17        Egyptian Spoken Arabic(excl. Saʽidi Arabic)   \n",
       "18                                    Standard German   \n",
       "19                                  Urdu(excl. Hindi)   \n",
       "20                                           Javanese   \n",
       "21             Western Punjabi(excl. Eastern Punjabi)   \n",
       "22                                            Italian   \n",
       "23                                           Gujarati   \n",
       "24              Iranian Persian(excl. Dari and Tajik)   \n",
       "25                                           Bhojpuri   \n",
       "26                                              Hausa   \n",
       "\n",
       "   Native speakers(millions) Language family             Branch  \n",
       "0                        939    Sino-Tibetan            Sinitic  \n",
       "1                        485   Indo-European            Romance  \n",
       "2                        380   Indo-European           Germanic  \n",
       "3                        345   Indo-European         Indo-Aryan  \n",
       "4                        236   Indo-European            Romance  \n",
       "5                        234   Indo-European         Indo-Aryan  \n",
       "6                        147   Indo-European       Balto-Slavic  \n",
       "7                        123         Japonic           Japanese  \n",
       "8                       86.1    Sino-Tibetan            Sinitic  \n",
       "9                       85.0   Austroasiatic             Vietic  \n",
       "10                      84.0          Turkic              Oghuz  \n",
       "11                      83.4    Sino-Tibetan            Sinitic  \n",
       "12                      83.2   Indo-European         Indo-Aryan  \n",
       "13                      83.0       Dravidian      South-Central  \n",
       "14                      81.7        Koreanic                  —  \n",
       "15                      80.8   Indo-European            Romance  \n",
       "16                      78.6       Dravidian              South  \n",
       "17                      77.4     Afroasiatic            Semitic  \n",
       "18                      75.3   Indo-European           Germanic  \n",
       "19                      70.6   Indo-European         Indo-Aryan  \n",
       "20                      68.3    Austronesian  Malayo-Polynesian  \n",
       "21                      66.7   Indo-European         Indo-Aryan  \n",
       "22                      64.6   Indo-European            Romance  \n",
       "23                      57.1   Indo-European         Indo-Aryan  \n",
       "24                      57.2   Indo-European            Iranian  \n",
       "25                      52.3   Indo-European         Indo-Aryan  \n",
       "26                      51.7     Afroasiatic             Chadic  "
      ]
     },
     "execution_count": 26,
     "metadata": {},
     "output_type": "execute_result"
    }
   ],
   "source": [
    "df = pd.DataFrame(data, columns=cabeceras)\n",
    "\n",
    "df"
   ]
  },
  {
   "cell_type": "markdown",
   "id": "57da629a",
   "metadata": {},
   "source": [
    "### Idiomas"
   ]
  },
  {
   "cell_type": "code",
   "execution_count": 27,
   "id": "6b0afe7c",
   "metadata": {},
   "outputs": [],
   "source": [
    "url = 'https://www.wikipedia.org/'\n",
    "\n",
    "html = req.get(url).text\n",
    "\n",
    "sopa = bs(html, 'html.parser')"
   ]
  },
  {
   "cell_type": "code",
   "execution_count": 29,
   "id": "8ee591cd",
   "metadata": {},
   "outputs": [],
   "source": [
    "idiomas = sopa.find('div', class_='central-featured')"
   ]
  },
  {
   "cell_type": "code",
   "execution_count": 31,
   "id": "dfe948dc",
   "metadata": {},
   "outputs": [
    {
     "data": {
      "text/plain": [
       "'English'"
      ]
     },
     "execution_count": 31,
     "metadata": {},
     "output_type": "execute_result"
    }
   ],
   "source": [
    "idiomas.find_all('strong')[0].text.strip()"
   ]
  },
  {
   "cell_type": "code",
   "execution_count": 32,
   "id": "7c51f184",
   "metadata": {},
   "outputs": [
    {
     "data": {
      "text/plain": [
       "['English',\n",
       " 'æ\\x97¥æ\\x9c¬èª\\x9e',\n",
       " 'EspaÃ±ol',\n",
       " 'Ð\\xa0Ñ\\x83Ñ\\x81Ñ\\x81ÐºÐ¸Ð¹',\n",
       " 'Deutsch',\n",
       " 'FranÃ§ais',\n",
       " 'Italiano',\n",
       " 'ä¸\\xadæ\\x96\\x87',\n",
       " 'PortuguÃªs',\n",
       " 'Ù\\x81Ø§Ø±Ø³Û\\x8c']"
      ]
     },
     "execution_count": 32,
     "metadata": {},
     "output_type": "execute_result"
    }
   ],
   "source": [
    "nombres = [e.text.strip() for e in idiomas.find_all('strong')]\n",
    "\n",
    "nombres"
   ]
  },
  {
   "cell_type": "code",
   "execution_count": 36,
   "id": "33a2a716",
   "metadata": {},
   "outputs": [
    {
     "data": {
      "text/plain": [
       "['6691000+',\n",
       " '1382000+',\n",
       " '1881000+',\n",
       " '1930000+',\n",
       " '2822000+',\n",
       " '2540000+',\n",
       " '1820000+',\n",
       " '1369000+',\n",
       " '1105000+',\n",
       " 'Ù\\x81Ø§Ø±Ø³Û\\x8c',\n",
       " '969000+']"
      ]
     },
     "execution_count": 36,
     "metadata": {},
     "output_type": "execute_result"
    }
   ],
   "source": [
    "numeros = [e.text.strip().replace('\\xa0', '') for e in idiomas.find_all('bdi')]\n",
    "\n",
    "numeros"
   ]
  },
  {
   "cell_type": "code",
   "execution_count": 38,
   "id": "19e6c01d",
   "metadata": {},
   "outputs": [
    {
     "data": {
      "text/plain": [
       "{'English': '6691000+',\n",
       " 'æ\\x97¥æ\\x9c¬èª\\x9e': '1382000+',\n",
       " 'EspaÃ±ol': '1881000+',\n",
       " 'Ð\\xa0Ñ\\x83Ñ\\x81Ñ\\x81ÐºÐ¸Ð¹': '1930000+',\n",
       " 'Deutsch': '2822000+',\n",
       " 'FranÃ§ais': '2540000+',\n",
       " 'Italiano': '1820000+',\n",
       " 'ä¸\\xadæ\\x96\\x87': '1369000+',\n",
       " 'PortuguÃªs': '1105000+',\n",
       " 'Ù\\x81Ø§Ø±Ø³Û\\x8c': 'Ù\\x81Ø§Ø±Ø³Û\\x8c'}"
      ]
     },
     "execution_count": 38,
     "metadata": {},
     "output_type": "execute_result"
    }
   ],
   "source": [
    "dict(zip(nombres, numeros))"
   ]
  },
  {
   "cell_type": "code",
   "execution_count": null,
   "id": "fdafea85",
   "metadata": {},
   "outputs": [],
   "source": []
  }
 ],
 "metadata": {
  "kernelspec": {
   "display_name": "clase",
   "language": "python",
   "name": "clase"
  },
  "language_info": {
   "codemirror_mode": {
    "name": "ipython",
    "version": 3
   },
   "file_extension": ".py",
   "mimetype": "text/x-python",
   "name": "python",
   "nbconvert_exporter": "python",
   "pygments_lexer": "ipython3",
   "version": "3.9.12"
  }
 },
 "nbformat": 4,
 "nbformat_minor": 5
}
