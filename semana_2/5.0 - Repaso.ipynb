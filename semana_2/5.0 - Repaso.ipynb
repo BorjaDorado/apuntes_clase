{
 "cells": [
  {
   "cell_type": "markdown",
   "id": "e6cc1d21",
   "metadata": {},
   "source": [
    "### 1 - Lambdas, map, reduce y filter"
   ]
  },
  {
   "cell_type": "code",
   "execution_count": 1,
   "id": "eb18ce54",
   "metadata": {},
   "outputs": [
    {
     "data": {
      "text/plain": [
       "<function __main__.<lambda>(x)>"
      ]
     },
     "execution_count": 1,
     "metadata": {},
     "output_type": "execute_result"
    }
   ],
   "source": [
    "lambda x: x+3"
   ]
  },
  {
   "cell_type": "code",
   "execution_count": null,
   "id": "761c8efe",
   "metadata": {},
   "outputs": [],
   "source": [
    "# el return tiene que ser expresado en una sola linea"
   ]
  },
  {
   "cell_type": "code",
   "execution_count": 3,
   "id": "dbf11121",
   "metadata": {},
   "outputs": [
    {
     "data": {
      "text/plain": [
       "<function __main__.<lambda>(x)>"
      ]
     },
     "execution_count": 3,
     "metadata": {},
     "output_type": "execute_result"
    }
   ],
   "source": [
    "lambda x: 'a' if x<0 else ('b' if x==0 else ('c' if x>0 else 0))"
   ]
  },
  {
   "cell_type": "code",
   "execution_count": 4,
   "id": "96db051a",
   "metadata": {},
   "outputs": [
    {
     "data": {
      "text/plain": [
       "<function __main__.<lambda>(x)>"
      ]
     },
     "execution_count": 4,
     "metadata": {},
     "output_type": "execute_result"
    }
   ],
   "source": [
    "lambda x: None"
   ]
  },
  {
   "cell_type": "code",
   "execution_count": 6,
   "id": "a8f58254",
   "metadata": {},
   "outputs": [
    {
     "data": {
      "text/plain": [
       "[1, 2, 3, 4, 5, 6, 7, 8, 9]"
      ]
     },
     "execution_count": 6,
     "metadata": {},
     "output_type": "execute_result"
    }
   ],
   "source": [
    "lst = [1,2,3,4,5,6,7,8,9,]\n",
    "\n",
    "lst"
   ]
  },
  {
   "cell_type": "code",
   "execution_count": 8,
   "id": "89eba0a7",
   "metadata": {},
   "outputs": [
    {
     "data": {
      "text/plain": [
       "[10, 20, 30, 40, 50, 60, 70, 80, 90]"
      ]
     },
     "execution_count": 8,
     "metadata": {},
     "output_type": "execute_result"
    }
   ],
   "source": [
    "# map (aplicar una funcion matematica)\n",
    "\n",
    "def multi(x):\n",
    "    return x*10\n",
    "\n",
    "list(map(multi, lst))"
   ]
  },
  {
   "cell_type": "code",
   "execution_count": 13,
   "id": "ceeed146",
   "metadata": {},
   "outputs": [
    {
     "data": {
      "text/plain": [
       "[10, 20, 30, 40, 50, 60, 70, 80, 90]"
      ]
     },
     "execution_count": 13,
     "metadata": {},
     "output_type": "execute_result"
    }
   ],
   "source": [
    "list(map(lambda x: x*10, lst))"
   ]
  },
  {
   "cell_type": "code",
   "execution_count": 10,
   "id": "ca9146c3",
   "metadata": {},
   "outputs": [
    {
     "data": {
      "text/plain": [
       "array([10, 20, 30, 40, 50, 60, 70, 80, 90])"
      ]
     },
     "execution_count": 10,
     "metadata": {},
     "output_type": "execute_result"
    }
   ],
   "source": [
    "import numpy as np\n",
    "\n",
    "np.array(lst) * 10"
   ]
  },
  {
   "cell_type": "code",
   "execution_count": 16,
   "id": "cd4a5ce0",
   "metadata": {},
   "outputs": [
    {
     "data": {
      "text/plain": [
       "[2, 4, 6, 8]"
      ]
     },
     "execution_count": 16,
     "metadata": {},
     "output_type": "execute_result"
    }
   ],
   "source": [
    "# filtrar pares\n",
    "\n",
    "def filt(x):\n",
    "    # funcion booleana\n",
    "    return x%2==0\n",
    "\n",
    "list(filter(filt, lst))"
   ]
  },
  {
   "cell_type": "code",
   "execution_count": 17,
   "id": "37eeefcc",
   "metadata": {},
   "outputs": [
    {
     "data": {
      "text/plain": [
       "[2, 4, 6, 8]"
      ]
     },
     "execution_count": 17,
     "metadata": {},
     "output_type": "execute_result"
    }
   ],
   "source": [
    "list(filter(lambda x: x%2==0, lst))"
   ]
  },
  {
   "cell_type": "code",
   "execution_count": 18,
   "id": "eb0b54cd",
   "metadata": {},
   "outputs": [],
   "source": [
    "from functools import reduce"
   ]
  },
  {
   "cell_type": "code",
   "execution_count": 21,
   "id": "83234861",
   "metadata": {},
   "outputs": [
    {
     "data": {
      "text/plain": [
       "2.7557319223985893e-06"
      ]
     },
     "execution_count": 21,
     "metadata": {},
     "output_type": "execute_result"
    }
   ],
   "source": [
    "def suma(a, b):\n",
    "    return a+b\n",
    "\n",
    "\n",
    "def multi(a, b):\n",
    "    return a*b\n",
    "\n",
    "\n",
    "def divi(a, b):\n",
    "    return a/b\n",
    "\n",
    "\n",
    "reduce(divi, lst)"
   ]
  },
  {
   "cell_type": "code",
   "execution_count": 26,
   "id": "37387a09",
   "metadata": {},
   "outputs": [
    {
     "data": {
      "text/plain": [
       "362880"
      ]
     },
     "execution_count": 26,
     "metadata": {},
     "output_type": "execute_result"
    }
   ],
   "source": [
    "reduce(lambda a,b: a*b, lst)"
   ]
  },
  {
   "cell_type": "code",
   "execution_count": 27,
   "id": "884096e2",
   "metadata": {},
   "outputs": [
    {
     "data": {
      "text/plain": [
       "<function sum(iterable, /, start=0)>"
      ]
     },
     "execution_count": 27,
     "metadata": {},
     "output_type": "execute_result"
    }
   ],
   "source": [
    "sum"
   ]
  },
  {
   "cell_type": "markdown",
   "id": "921ce408",
   "metadata": {},
   "source": [
    "### 2 - Regex"
   ]
  },
  {
   "cell_type": "code",
   "execution_count": 28,
   "id": "0fbbe0fa",
   "metadata": {},
   "outputs": [],
   "source": [
    "import re"
   ]
  },
  {
   "cell_type": "code",
   "execution_count": 29,
   "id": "217d87f9",
   "metadata": {},
   "outputs": [
    {
     "data": {
      "text/plain": [
       "<function re.findall(pattern, string, flags=0)>"
      ]
     },
     "execution_count": 29,
     "metadata": {},
     "output_type": "execute_result"
    }
   ],
   "source": [
    "re.findall"
   ]
  },
  {
   "cell_type": "code",
   "execution_count": 49,
   "id": "0ddc0508",
   "metadata": {},
   "outputs": [],
   "source": [
    "texto = '''\n",
    "El Hobbit es una novela escrita por J.R.R. Tolkien, y comienza con una famosa frase que dice:\n",
    "\n",
    "\"En un agujero en el suelo, vivía un hobbit.\"\n",
    "\n",
    "Esta frase es el inicio de una maravillosa aventura que sigue la historia de Bilbo Bolsón, un hobbit que es arrastrado a una búsqueda épica para recuperar el tesoro robado por el temible dragón Smaug. A medida que la historia avanza, Bilbo se une a un grupo de enanos liderados por Thorin Escudo de Roble, y juntos emprenden un peligroso viaje hacia la Montaña Solitaria.\n",
    "\n",
    "El Hobbit es una precuela de la trilogía de El Señor de los Anillos y es ampliamente conocido por su encanto y narrativa envolvente que ha cautivado a lectores de todas las edades desde su publicación en 1937.\n",
    "\n",
    "09534u 904350u90542 v v 039tij02349tj03 \n",
    "\n",
    "2eport4903 Hhobbit\n",
    "\n",
    "\n",
    "yo@mail.com  +34555000999\n",
    "'''"
   ]
  },
  {
   "cell_type": "code",
   "execution_count": 43,
   "id": "66871a68",
   "metadata": {},
   "outputs": [
    {
     "data": {
      "text/plain": [
       "['El', 'Hobbit', 'es', 'una', 'novela', 'escrita', 'por', 'J', 'R', 'R']"
      ]
     },
     "execution_count": 43,
     "metadata": {},
     "output_type": "execute_result"
    }
   ],
   "source": [
    "patron=r'[a-zA-Z0-9]+'\n",
    "\n",
    "\n",
    "re.findall(patron, texto)[:10]"
   ]
  },
  {
   "cell_type": "code",
   "execution_count": 47,
   "id": "a2b0ed0f",
   "metadata": {},
   "outputs": [
    {
     "data": {
      "text/plain": [
       "['1937',\n",
       " '09534',\n",
       " '904350',\n",
       " '90542',\n",
       " '039',\n",
       " '02349',\n",
       " '03',\n",
       " '2',\n",
       " '4903',\n",
       " '34555000999']"
      ]
     },
     "execution_count": 47,
     "metadata": {},
     "output_type": "execute_result"
    }
   ],
   "source": [
    "patron=r'[0-9]+'   # r'\\d+''\n",
    "\n",
    "\n",
    "re.findall(patron, texto)[:10]"
   ]
  },
  {
   "cell_type": "code",
   "execution_count": 51,
   "id": "26c28d6a",
   "metadata": {},
   "outputs": [
    {
     "data": {
      "text/plain": [
       "['Hhobbit']"
      ]
     },
     "execution_count": 51,
     "metadata": {},
     "output_type": "execute_result"
    }
   ],
   "source": [
    "patron=r'[Hh]obbit'\n",
    "\n",
    "\n",
    "re.findall(patron, texto)[:10]"
   ]
  },
  {
   "cell_type": "code",
   "execution_count": 52,
   "id": "2005ed64",
   "metadata": {},
   "outputs": [
    {
     "data": {
      "text/plain": [
       "['Hhobbit']"
      ]
     },
     "execution_count": 52,
     "metadata": {},
     "output_type": "execute_result"
    }
   ],
   "source": [
    "patron=r'[H][h]obbit'\n",
    "\n",
    "\n",
    "re.findall(patron, texto)[:10]"
   ]
  },
  {
   "cell_type": "markdown",
   "id": "fa28e421",
   "metadata": {},
   "source": [
    "### 3 - Bucle Pandas"
   ]
  },
  {
   "cell_type": "code",
   "execution_count": 53,
   "id": "7316a2c3",
   "metadata": {},
   "outputs": [],
   "source": [
    "import pandas as pd"
   ]
  },
  {
   "cell_type": "code",
   "execution_count": 55,
   "id": "6c6f24c3",
   "metadata": {},
   "outputs": [],
   "source": [
    "data = pd.read_csv('../data/vehicles_messy.csv', low_memory=False)"
   ]
  },
  {
   "cell_type": "code",
   "execution_count": 57,
   "id": "363daa25",
   "metadata": {},
   "outputs": [
    {
     "data": {
      "text/html": [
       "<div>\n",
       "<style scoped>\n",
       "    .dataframe tbody tr th:only-of-type {\n",
       "        vertical-align: middle;\n",
       "    }\n",
       "\n",
       "    .dataframe tbody tr th {\n",
       "        vertical-align: top;\n",
       "    }\n",
       "\n",
       "    .dataframe thead th {\n",
       "        text-align: right;\n",
       "    }\n",
       "</style>\n",
       "<table border=\"1\" class=\"dataframe\">\n",
       "  <thead>\n",
       "    <tr style=\"text-align: right;\">\n",
       "      <th></th>\n",
       "      <th>count</th>\n",
       "      <th>mean</th>\n",
       "      <th>std</th>\n",
       "      <th>min</th>\n",
       "      <th>25%</th>\n",
       "      <th>50%</th>\n",
       "      <th>75%</th>\n",
       "      <th>max</th>\n",
       "      <th>IQR</th>\n",
       "    </tr>\n",
       "  </thead>\n",
       "  <tbody>\n",
       "    <tr>\n",
       "      <th>barrels08</th>\n",
       "      <td>37843.0</td>\n",
       "      <td>17.532506</td>\n",
       "      <td>4.575950</td>\n",
       "      <td>0.06</td>\n",
       "      <td>14.33087</td>\n",
       "      <td>17.347895</td>\n",
       "      <td>20.600625</td>\n",
       "      <td>47.087143</td>\n",
       "      <td>6.269755</td>\n",
       "    </tr>\n",
       "    <tr>\n",
       "      <th>barrelsA08</th>\n",
       "      <td>37843.0</td>\n",
       "      <td>0.216169</td>\n",
       "      <td>1.141527</td>\n",
       "      <td>0.00</td>\n",
       "      <td>0.00000</td>\n",
       "      <td>0.000000</td>\n",
       "      <td>0.000000</td>\n",
       "      <td>18.311667</td>\n",
       "      <td>0.000000</td>\n",
       "    </tr>\n",
       "    <tr>\n",
       "      <th>charge120</th>\n",
       "      <td>37843.0</td>\n",
       "      <td>0.000000</td>\n",
       "      <td>0.000000</td>\n",
       "      <td>0.00</td>\n",
       "      <td>0.00000</td>\n",
       "      <td>0.000000</td>\n",
       "      <td>0.000000</td>\n",
       "      <td>0.000000</td>\n",
       "      <td>0.000000</td>\n",
       "    </tr>\n",
       "    <tr>\n",
       "      <th>charge240</th>\n",
       "      <td>37843.0</td>\n",
       "      <td>0.023531</td>\n",
       "      <td>0.427647</td>\n",
       "      <td>0.00</td>\n",
       "      <td>0.00000</td>\n",
       "      <td>0.000000</td>\n",
       "      <td>0.000000</td>\n",
       "      <td>12.000000</td>\n",
       "      <td>0.000000</td>\n",
       "    </tr>\n",
       "    <tr>\n",
       "      <th>city08</th>\n",
       "      <td>37843.0</td>\n",
       "      <td>17.941389</td>\n",
       "      <td>6.660360</td>\n",
       "      <td>6.00</td>\n",
       "      <td>15.00000</td>\n",
       "      <td>17.000000</td>\n",
       "      <td>20.000000</td>\n",
       "      <td>138.000000</td>\n",
       "      <td>5.000000</td>\n",
       "    </tr>\n",
       "  </tbody>\n",
       "</table>\n",
       "</div>"
      ],
      "text/plain": [
       "              count       mean       std   min       25%        50%  \\\n",
       "barrels08   37843.0  17.532506  4.575950  0.06  14.33087  17.347895   \n",
       "barrelsA08  37843.0   0.216169  1.141527  0.00   0.00000   0.000000   \n",
       "charge120   37843.0   0.000000  0.000000  0.00   0.00000   0.000000   \n",
       "charge240   37843.0   0.023531  0.427647  0.00   0.00000   0.000000   \n",
       "city08      37843.0  17.941389  6.660360  6.00  15.00000  17.000000   \n",
       "\n",
       "                  75%         max       IQR  \n",
       "barrels08   20.600625   47.087143  6.269755  \n",
       "barrelsA08   0.000000   18.311667  0.000000  \n",
       "charge120    0.000000    0.000000  0.000000  \n",
       "charge240    0.000000   12.000000  0.000000  \n",
       "city08      20.000000  138.000000  5.000000  "
      ]
     },
     "execution_count": 57,
     "metadata": {},
     "output_type": "execute_result"
    }
   ],
   "source": [
    "stats = data.describe().transpose()\n",
    "\n",
    "stats['IQR'] = stats['75%'] - stats['25%']\n",
    "\n",
    "stats.head()"
   ]
  },
  {
   "cell_type": "code",
   "execution_count": 66,
   "id": "37227958",
   "metadata": {},
   "outputs": [
    {
     "data": {
      "text/html": [
       "<div>\n",
       "<style scoped>\n",
       "    .dataframe tbody tr th:only-of-type {\n",
       "        vertical-align: middle;\n",
       "    }\n",
       "\n",
       "    .dataframe tbody tr th {\n",
       "        vertical-align: top;\n",
       "    }\n",
       "\n",
       "    .dataframe thead th {\n",
       "        text-align: right;\n",
       "    }\n",
       "</style>\n",
       "<table border=\"1\" class=\"dataframe\">\n",
       "  <thead>\n",
       "    <tr style=\"text-align: right;\">\n",
       "      <th></th>\n",
       "      <th>barrels08</th>\n",
       "      <th>barrelsA08</th>\n",
       "      <th>charge120</th>\n",
       "      <th>charge240</th>\n",
       "      <th>city08</th>\n",
       "      <th>city08U</th>\n",
       "      <th>cityA08</th>\n",
       "      <th>cityA08U</th>\n",
       "      <th>cityCD</th>\n",
       "      <th>cityE</th>\n",
       "      <th>...</th>\n",
       "      <th>c240Dscr</th>\n",
       "      <th>charge240b</th>\n",
       "      <th>c240bDscr</th>\n",
       "      <th>createdOn</th>\n",
       "      <th>modifiedOn</th>\n",
       "      <th>startStop</th>\n",
       "      <th>phevCity</th>\n",
       "      <th>phevHwy</th>\n",
       "      <th>phevComb</th>\n",
       "      <th>Outlier</th>\n",
       "    </tr>\n",
       "  </thead>\n",
       "  <tbody>\n",
       "    <tr>\n",
       "      <th>47</th>\n",
       "      <td>32.961</td>\n",
       "      <td>0.0</td>\n",
       "      <td>0.0</td>\n",
       "      <td>0.0</td>\n",
       "      <td>9</td>\n",
       "      <td>0.0</td>\n",
       "      <td>0</td>\n",
       "      <td>0.0</td>\n",
       "      <td>0.0</td>\n",
       "      <td>0.0</td>\n",
       "      <td>...</td>\n",
       "      <td>NaN</td>\n",
       "      <td>0.0</td>\n",
       "      <td>NaN</td>\n",
       "      <td>Tue Jan 01 00:00:00 EST 2013</td>\n",
       "      <td>Tue Jan 01 00:00:00 EST 2013</td>\n",
       "      <td>NaN</td>\n",
       "      <td>0</td>\n",
       "      <td>0</td>\n",
       "      <td>0</td>\n",
       "      <td>barrels08</td>\n",
       "    </tr>\n",
       "    <tr>\n",
       "      <th>58</th>\n",
       "      <td>32.961</td>\n",
       "      <td>0.0</td>\n",
       "      <td>0.0</td>\n",
       "      <td>0.0</td>\n",
       "      <td>10</td>\n",
       "      <td>0.0</td>\n",
       "      <td>0</td>\n",
       "      <td>0.0</td>\n",
       "      <td>0.0</td>\n",
       "      <td>0.0</td>\n",
       "      <td>...</td>\n",
       "      <td>NaN</td>\n",
       "      <td>0.0</td>\n",
       "      <td>NaN</td>\n",
       "      <td>Tue Jan 01 00:00:00 EST 2013</td>\n",
       "      <td>Tue Jan 01 00:00:00 EST 2013</td>\n",
       "      <td>NaN</td>\n",
       "      <td>0</td>\n",
       "      <td>0</td>\n",
       "      <td>0</td>\n",
       "      <td>barrels08</td>\n",
       "    </tr>\n",
       "    <tr>\n",
       "      <th>69</th>\n",
       "      <td>32.961</td>\n",
       "      <td>0.0</td>\n",
       "      <td>0.0</td>\n",
       "      <td>0.0</td>\n",
       "      <td>10</td>\n",
       "      <td>0.0</td>\n",
       "      <td>0</td>\n",
       "      <td>0.0</td>\n",
       "      <td>0.0</td>\n",
       "      <td>0.0</td>\n",
       "      <td>...</td>\n",
       "      <td>NaN</td>\n",
       "      <td>0.0</td>\n",
       "      <td>NaN</td>\n",
       "      <td>Tue Jan 01 00:00:00 EST 2013</td>\n",
       "      <td>Tue Jan 01 00:00:00 EST 2013</td>\n",
       "      <td>NaN</td>\n",
       "      <td>0</td>\n",
       "      <td>0</td>\n",
       "      <td>0</td>\n",
       "      <td>barrels08</td>\n",
       "    </tr>\n",
       "    <tr>\n",
       "      <th>80</th>\n",
       "      <td>32.961</td>\n",
       "      <td>0.0</td>\n",
       "      <td>0.0</td>\n",
       "      <td>0.0</td>\n",
       "      <td>9</td>\n",
       "      <td>0.0</td>\n",
       "      <td>0</td>\n",
       "      <td>0.0</td>\n",
       "      <td>0.0</td>\n",
       "      <td>0.0</td>\n",
       "      <td>...</td>\n",
       "      <td>NaN</td>\n",
       "      <td>0.0</td>\n",
       "      <td>NaN</td>\n",
       "      <td>Tue Jan 01 00:00:00 EST 2013</td>\n",
       "      <td>Tue Jan 01 00:00:00 EST 2013</td>\n",
       "      <td>NaN</td>\n",
       "      <td>0</td>\n",
       "      <td>0</td>\n",
       "      <td>0</td>\n",
       "      <td>barrels08</td>\n",
       "    </tr>\n",
       "    <tr>\n",
       "      <th>275</th>\n",
       "      <td>32.961</td>\n",
       "      <td>0.0</td>\n",
       "      <td>0.0</td>\n",
       "      <td>0.0</td>\n",
       "      <td>9</td>\n",
       "      <td>0.0</td>\n",
       "      <td>0</td>\n",
       "      <td>0.0</td>\n",
       "      <td>0.0</td>\n",
       "      <td>0.0</td>\n",
       "      <td>...</td>\n",
       "      <td>NaN</td>\n",
       "      <td>0.0</td>\n",
       "      <td>NaN</td>\n",
       "      <td>Tue Jan 01 00:00:00 EST 2013</td>\n",
       "      <td>Tue Jan 01 00:00:00 EST 2013</td>\n",
       "      <td>NaN</td>\n",
       "      <td>0</td>\n",
       "      <td>0</td>\n",
       "      <td>0</td>\n",
       "      <td>barrels08</td>\n",
       "    </tr>\n",
       "  </tbody>\n",
       "</table>\n",
       "<p>5 rows × 84 columns</p>\n",
       "</div>"
      ],
      "text/plain": [
       "     barrels08  barrelsA08  charge120  charge240 city08  city08U cityA08  \\\n",
       "47      32.961         0.0        0.0        0.0      9      0.0       0   \n",
       "58      32.961         0.0        0.0        0.0     10      0.0       0   \n",
       "69      32.961         0.0        0.0        0.0     10      0.0       0   \n",
       "80      32.961         0.0        0.0        0.0      9      0.0       0   \n",
       "275     32.961         0.0        0.0        0.0      9      0.0       0   \n",
       "\n",
       "     cityA08U  cityCD  cityE  ...  c240Dscr charge240b c240bDscr  \\\n",
       "47        0.0     0.0    0.0  ...       NaN        0.0       NaN   \n",
       "58        0.0     0.0    0.0  ...       NaN        0.0       NaN   \n",
       "69        0.0     0.0    0.0  ...       NaN        0.0       NaN   \n",
       "80        0.0     0.0    0.0  ...       NaN        0.0       NaN   \n",
       "275       0.0     0.0    0.0  ...       NaN        0.0       NaN   \n",
       "\n",
       "                        createdOn                    modifiedOn startStop  \\\n",
       "47   Tue Jan 01 00:00:00 EST 2013  Tue Jan 01 00:00:00 EST 2013       NaN   \n",
       "58   Tue Jan 01 00:00:00 EST 2013  Tue Jan 01 00:00:00 EST 2013       NaN   \n",
       "69   Tue Jan 01 00:00:00 EST 2013  Tue Jan 01 00:00:00 EST 2013       NaN   \n",
       "80   Tue Jan 01 00:00:00 EST 2013  Tue Jan 01 00:00:00 EST 2013       NaN   \n",
       "275  Tue Jan 01 00:00:00 EST 2013  Tue Jan 01 00:00:00 EST 2013       NaN   \n",
       "\n",
       "     phevCity phevHwy  phevComb    Outlier  \n",
       "47          0       0         0  barrels08  \n",
       "58          0       0         0  barrels08  \n",
       "69          0       0         0  barrels08  \n",
       "80          0       0         0  barrels08  \n",
       "275         0       0         0  barrels08  \n",
       "\n",
       "[5 rows x 84 columns]"
      ]
     },
     "execution_count": 66,
     "metadata": {},
     "output_type": "execute_result"
    }
   ],
   "source": [
    "import warnings\n",
    "warnings.filterwarnings('ignore')\n",
    "\n",
    "outliers = pd.DataFrame(columns=data.columns)\n",
    "\n",
    "for col in stats.index:\n",
    "    \n",
    "    iqr = stats.at[col,'IQR']\n",
    "    \n",
    "    cutoff = iqr * 1.5  # proporcion del test de Tukey\n",
    "    \n",
    "    # umbral por abajo\n",
    "    lower = stats.at[col,'25%'] - cutoff\n",
    "    \n",
    "    # umbral por arriba\n",
    "    upper = stats.at[col,'75%'] + cutoff\n",
    "    \n",
    "    # filtra outliers\n",
    "    results = data[(data[col] < lower) | (data[col] > upper)].copy()\n",
    "    \n",
    "    # añade datos a al dataframe vacio\n",
    "    results['Outlier'] = col\n",
    "    outliers = outliers.append(results)\n",
    "    \n",
    "outliers.head()"
   ]
  },
  {
   "cell_type": "code",
   "execution_count": 63,
   "id": "6c46cad2",
   "metadata": {},
   "outputs": [
    {
     "data": {
      "text/plain": [
       "6.269755434782608"
      ]
     },
     "execution_count": 63,
     "metadata": {},
     "output_type": "execute_result"
    }
   ],
   "source": [
    "stats.at['barrels08','IQR']"
   ]
  },
  {
   "cell_type": "code",
   "execution_count": 68,
   "id": "256caea0",
   "metadata": {},
   "outputs": [
    {
     "data": {
      "text/html": [
       "<div>\n",
       "<style scoped>\n",
       "    .dataframe tbody tr th:only-of-type {\n",
       "        vertical-align: middle;\n",
       "    }\n",
       "\n",
       "    .dataframe tbody tr th {\n",
       "        vertical-align: top;\n",
       "    }\n",
       "\n",
       "    .dataframe thead th {\n",
       "        text-align: right;\n",
       "    }\n",
       "</style>\n",
       "<table border=\"1\" class=\"dataframe\">\n",
       "  <thead>\n",
       "    <tr style=\"text-align: right;\">\n",
       "      <th></th>\n",
       "      <th>barrels08</th>\n",
       "      <th>barrelsA08</th>\n",
       "      <th>charge120</th>\n",
       "      <th>charge240</th>\n",
       "      <th>city08</th>\n",
       "      <th>city08U</th>\n",
       "      <th>cityA08</th>\n",
       "      <th>cityA08U</th>\n",
       "      <th>cityCD</th>\n",
       "      <th>cityE</th>\n",
       "      <th>...</th>\n",
       "      <th>c240Dscr</th>\n",
       "      <th>charge240b</th>\n",
       "      <th>c240bDscr</th>\n",
       "      <th>createdOn</th>\n",
       "      <th>modifiedOn</th>\n",
       "      <th>startStop</th>\n",
       "      <th>phevCity</th>\n",
       "      <th>phevHwy</th>\n",
       "      <th>phevComb</th>\n",
       "      <th>Outlier</th>\n",
       "    </tr>\n",
       "  </thead>\n",
       "  <tbody>\n",
       "    <tr>\n",
       "      <th>23043</th>\n",
       "      <td>3.375621</td>\n",
       "      <td>0.216000</td>\n",
       "      <td>0.0</td>\n",
       "      <td>4.0</td>\n",
       "      <td>35</td>\n",
       "      <td>0.0000</td>\n",
       "      <td>95</td>\n",
       "      <td>0.0000</td>\n",
       "      <td>0.00</td>\n",
       "      <td>36.0</td>\n",
       "      <td>...</td>\n",
       "      <td>NaN</td>\n",
       "      <td>0.0</td>\n",
       "      <td>NaN</td>\n",
       "      <td>Tue Jan 01 00:00:00 EST 2013</td>\n",
       "      <td>Thu Jul 07 00:00:00 EDT 2016</td>\n",
       "      <td>Y</td>\n",
       "      <td>58</td>\n",
       "      <td>62</td>\n",
       "      <td>60</td>\n",
       "      <td>phevComb</td>\n",
       "    </tr>\n",
       "    <tr>\n",
       "      <th>23746</th>\n",
       "      <td>3.375621</td>\n",
       "      <td>0.216000</td>\n",
       "      <td>0.0</td>\n",
       "      <td>4.0</td>\n",
       "      <td>35</td>\n",
       "      <td>34.8879</td>\n",
       "      <td>95</td>\n",
       "      <td>94.5100</td>\n",
       "      <td>0.00</td>\n",
       "      <td>36.0</td>\n",
       "      <td>...</td>\n",
       "      <td>NaN</td>\n",
       "      <td>0.0</td>\n",
       "      <td>NaN</td>\n",
       "      <td>Tue Jan 01 00:00:00 EST 2013</td>\n",
       "      <td>Fri Sep 25 00:00:00 EDT 2015</td>\n",
       "      <td>Y</td>\n",
       "      <td>58</td>\n",
       "      <td>62</td>\n",
       "      <td>60</td>\n",
       "      <td>phevComb</td>\n",
       "    </tr>\n",
       "    <tr>\n",
       "      <th>24703</th>\n",
       "      <td>4.744612</td>\n",
       "      <td>3.469579</td>\n",
       "      <td>0.0</td>\n",
       "      <td>1.5</td>\n",
       "      <td>51</td>\n",
       "      <td>50.5282</td>\n",
       "      <td>90</td>\n",
       "      <td>90.2714</td>\n",
       "      <td>0.35</td>\n",
       "      <td>26.0</td>\n",
       "      <td>...</td>\n",
       "      <td>NaN</td>\n",
       "      <td>0.0</td>\n",
       "      <td>NaN</td>\n",
       "      <td>Tue Jan 01 00:00:00 EST 2013</td>\n",
       "      <td>Fri Sep 25 00:00:00 EDT 2015</td>\n",
       "      <td>Y</td>\n",
       "      <td>59</td>\n",
       "      <td>56</td>\n",
       "      <td>58</td>\n",
       "      <td>phevComb</td>\n",
       "    </tr>\n",
       "    <tr>\n",
       "      <th>24739</th>\n",
       "      <td>6.359255</td>\n",
       "      <td>0.372000</td>\n",
       "      <td>0.0</td>\n",
       "      <td>6.0</td>\n",
       "      <td>20</td>\n",
       "      <td>19.7000</td>\n",
       "      <td>55</td>\n",
       "      <td>54.6000</td>\n",
       "      <td>0.00</td>\n",
       "      <td>61.7</td>\n",
       "      <td>...</td>\n",
       "      <td>NaN</td>\n",
       "      <td>0.0</td>\n",
       "      <td>NaN</td>\n",
       "      <td>Tue Jan 01 00:00:00 EST 2013</td>\n",
       "      <td>Tue Feb 02 00:00:00 EST 2016</td>\n",
       "      <td>Y</td>\n",
       "      <td>33</td>\n",
       "      <td>34</td>\n",
       "      <td>33</td>\n",
       "      <td>phevComb</td>\n",
       "    </tr>\n",
       "    <tr>\n",
       "      <th>24893</th>\n",
       "      <td>3.092539</td>\n",
       "      <td>0.210000</td>\n",
       "      <td>0.0</td>\n",
       "      <td>4.0</td>\n",
       "      <td>35</td>\n",
       "      <td>34.9000</td>\n",
       "      <td>101</td>\n",
       "      <td>101.4300</td>\n",
       "      <td>0.00</td>\n",
       "      <td>33.0</td>\n",
       "      <td>...</td>\n",
       "      <td>NaN</td>\n",
       "      <td>0.0</td>\n",
       "      <td>NaN</td>\n",
       "      <td>Tue Jan 01 00:00:00 EST 2013</td>\n",
       "      <td>Fri Sep 25 00:00:00 EDT 2015</td>\n",
       "      <td>Y</td>\n",
       "      <td>63</td>\n",
       "      <td>61</td>\n",
       "      <td>62</td>\n",
       "      <td>phevComb</td>\n",
       "    </tr>\n",
       "  </tbody>\n",
       "</table>\n",
       "<p>5 rows × 84 columns</p>\n",
       "</div>"
      ],
      "text/plain": [
       "       barrels08  barrelsA08  charge120  charge240  city08  city08U  cityA08  \\\n",
       "23043   3.375621    0.216000        0.0        4.0      35   0.0000       95   \n",
       "23746   3.375621    0.216000        0.0        4.0      35  34.8879       95   \n",
       "24703   4.744612    3.469579        0.0        1.5      51  50.5282       90   \n",
       "24739   6.359255    0.372000        0.0        6.0      20  19.7000       55   \n",
       "24893   3.092539    0.210000        0.0        4.0      35  34.9000      101   \n",
       "\n",
       "       cityA08U  cityCD  cityE  ...  c240Dscr  charge240b  c240bDscr  \\\n",
       "23043    0.0000    0.00   36.0  ...       NaN         0.0        NaN   \n",
       "23746   94.5100    0.00   36.0  ...       NaN         0.0        NaN   \n",
       "24703   90.2714    0.35   26.0  ...       NaN         0.0        NaN   \n",
       "24739   54.6000    0.00   61.7  ...       NaN         0.0        NaN   \n",
       "24893  101.4300    0.00   33.0  ...       NaN         0.0        NaN   \n",
       "\n",
       "                          createdOn                    modifiedOn  startStop  \\\n",
       "23043  Tue Jan 01 00:00:00 EST 2013  Thu Jul 07 00:00:00 EDT 2016          Y   \n",
       "23746  Tue Jan 01 00:00:00 EST 2013  Fri Sep 25 00:00:00 EDT 2015          Y   \n",
       "24703  Tue Jan 01 00:00:00 EST 2013  Fri Sep 25 00:00:00 EDT 2015          Y   \n",
       "24739  Tue Jan 01 00:00:00 EST 2013  Tue Feb 02 00:00:00 EST 2016          Y   \n",
       "24893  Tue Jan 01 00:00:00 EST 2013  Fri Sep 25 00:00:00 EDT 2015          Y   \n",
       "\n",
       "       phevCity  phevHwy  phevComb   Outlier  \n",
       "23043        58       62        60  phevComb  \n",
       "23746        58       62        60  phevComb  \n",
       "24703        59       56        58  phevComb  \n",
       "24739        33       34        33  phevComb  \n",
       "24893        63       61        62  phevComb  \n",
       "\n",
       "[5 rows x 84 columns]"
      ]
     },
     "execution_count": 68,
     "metadata": {},
     "output_type": "execute_result"
    }
   ],
   "source": [
    "results.head()"
   ]
  },
  {
   "cell_type": "code",
   "execution_count": 74,
   "id": "2c8310e7",
   "metadata": {},
   "outputs": [
    {
     "data": {
      "text/html": [
       "<div>\n",
       "<style scoped>\n",
       "    .dataframe tbody tr th:only-of-type {\n",
       "        vertical-align: middle;\n",
       "    }\n",
       "\n",
       "    .dataframe tbody tr th {\n",
       "        vertical-align: top;\n",
       "    }\n",
       "\n",
       "    .dataframe thead th {\n",
       "        text-align: right;\n",
       "    }\n",
       "</style>\n",
       "<table border=\"1\" class=\"dataframe\">\n",
       "  <thead>\n",
       "    <tr style=\"text-align: right;\">\n",
       "      <th></th>\n",
       "      <th>barrels08</th>\n",
       "      <th>barrelsA08</th>\n",
       "      <th>charge120</th>\n",
       "      <th>charge240</th>\n",
       "      <th>city08</th>\n",
       "      <th>city08U</th>\n",
       "      <th>cityA08</th>\n",
       "      <th>cityA08U</th>\n",
       "      <th>cityCD</th>\n",
       "      <th>cityE</th>\n",
       "      <th>...</th>\n",
       "      <th>mfrCode</th>\n",
       "      <th>c240Dscr</th>\n",
       "      <th>charge240b</th>\n",
       "      <th>c240bDscr</th>\n",
       "      <th>createdOn</th>\n",
       "      <th>modifiedOn</th>\n",
       "      <th>startStop</th>\n",
       "      <th>phevCity</th>\n",
       "      <th>phevHwy</th>\n",
       "      <th>phevComb</th>\n",
       "    </tr>\n",
       "  </thead>\n",
       "  <tbody>\n",
       "    <tr>\n",
       "      <th>0</th>\n",
       "      <td>15.695714</td>\n",
       "      <td>0.0</td>\n",
       "      <td>0.0</td>\n",
       "      <td>0.0</td>\n",
       "      <td>19</td>\n",
       "      <td>0.0</td>\n",
       "      <td>0</td>\n",
       "      <td>0.0</td>\n",
       "      <td>0.0</td>\n",
       "      <td>0.0</td>\n",
       "      <td>...</td>\n",
       "      <td>NaN</td>\n",
       "      <td>NaN</td>\n",
       "      <td>0.0</td>\n",
       "      <td>NaN</td>\n",
       "      <td>Tue Jan 01 00:00:00 EST 2013</td>\n",
       "      <td>Tue Jan 01 00:00:00 EST 2013</td>\n",
       "      <td>NaN</td>\n",
       "      <td>0</td>\n",
       "      <td>0</td>\n",
       "      <td>0</td>\n",
       "    </tr>\n",
       "    <tr>\n",
       "      <th>14</th>\n",
       "      <td>25.354615</td>\n",
       "      <td>0.0</td>\n",
       "      <td>0.0</td>\n",
       "      <td>0.0</td>\n",
       "      <td>12</td>\n",
       "      <td>0.0</td>\n",
       "      <td>0</td>\n",
       "      <td>0.0</td>\n",
       "      <td>0.0</td>\n",
       "      <td>0.0</td>\n",
       "      <td>...</td>\n",
       "      <td>NaN</td>\n",
       "      <td>NaN</td>\n",
       "      <td>0.0</td>\n",
       "      <td>NaN</td>\n",
       "      <td>Tue Jan 01 00:00:00 EST 2013</td>\n",
       "      <td>Tue Jan 01 00:00:00 EST 2013</td>\n",
       "      <td>NaN</td>\n",
       "      <td>0</td>\n",
       "      <td>0</td>\n",
       "      <td>0</td>\n",
       "    </tr>\n",
       "    <tr>\n",
       "      <th>25</th>\n",
       "      <td>25.354615</td>\n",
       "      <td>0.0</td>\n",
       "      <td>0.0</td>\n",
       "      <td>0.0</td>\n",
       "      <td>11</td>\n",
       "      <td>0.0</td>\n",
       "      <td>0</td>\n",
       "      <td>0.0</td>\n",
       "      <td>0.0</td>\n",
       "      <td>0.0</td>\n",
       "      <td>...</td>\n",
       "      <td>NaN</td>\n",
       "      <td>NaN</td>\n",
       "      <td>0.0</td>\n",
       "      <td>NaN</td>\n",
       "      <td>Tue Jan 01 00:00:00 EST 2013</td>\n",
       "      <td>Tue Jan 01 00:00:00 EST 2013</td>\n",
       "      <td>NaN</td>\n",
       "      <td>0</td>\n",
       "      <td>0</td>\n",
       "      <td>0</td>\n",
       "    </tr>\n",
       "    <tr>\n",
       "      <th>33</th>\n",
       "      <td>18.311667</td>\n",
       "      <td>0.0</td>\n",
       "      <td>0.0</td>\n",
       "      <td>0.0</td>\n",
       "      <td>15</td>\n",
       "      <td>0.0</td>\n",
       "      <td>0</td>\n",
       "      <td>0.0</td>\n",
       "      <td>0.0</td>\n",
       "      <td>0.0</td>\n",
       "      <td>...</td>\n",
       "      <td>NaN</td>\n",
       "      <td>NaN</td>\n",
       "      <td>0.0</td>\n",
       "      <td>NaN</td>\n",
       "      <td>Tue Jan 01 00:00:00 EST 2013</td>\n",
       "      <td>Tue Jan 01 00:00:00 EST 2013</td>\n",
       "      <td>NaN</td>\n",
       "      <td>0</td>\n",
       "      <td>0</td>\n",
       "      <td>0</td>\n",
       "    </tr>\n",
       "    <tr>\n",
       "      <th>34</th>\n",
       "      <td>19.388824</td>\n",
       "      <td>0.0</td>\n",
       "      <td>0.0</td>\n",
       "      <td>0.0</td>\n",
       "      <td>15</td>\n",
       "      <td>0.0</td>\n",
       "      <td>0</td>\n",
       "      <td>0.0</td>\n",
       "      <td>0.0</td>\n",
       "      <td>0.0</td>\n",
       "      <td>...</td>\n",
       "      <td>NaN</td>\n",
       "      <td>NaN</td>\n",
       "      <td>0.0</td>\n",
       "      <td>NaN</td>\n",
       "      <td>Tue Jan 01 00:00:00 EST 2013</td>\n",
       "      <td>Tue Jan 01 00:00:00 EST 2013</td>\n",
       "      <td>NaN</td>\n",
       "      <td>0</td>\n",
       "      <td>0</td>\n",
       "      <td>0</td>\n",
       "    </tr>\n",
       "  </tbody>\n",
       "</table>\n",
       "<p>5 rows × 83 columns</p>\n",
       "</div>"
      ],
      "text/plain": [
       "    barrels08  barrelsA08  charge120  charge240  city08  city08U  cityA08  \\\n",
       "0   15.695714         0.0        0.0        0.0      19      0.0        0   \n",
       "14  25.354615         0.0        0.0        0.0      12      0.0        0   \n",
       "25  25.354615         0.0        0.0        0.0      11      0.0        0   \n",
       "33  18.311667         0.0        0.0        0.0      15      0.0        0   \n",
       "34  19.388824         0.0        0.0        0.0      15      0.0        0   \n",
       "\n",
       "    cityA08U  cityCD  cityE  ...  mfrCode  c240Dscr  charge240b  c240bDscr  \\\n",
       "0        0.0     0.0    0.0  ...      NaN       NaN         0.0        NaN   \n",
       "14       0.0     0.0    0.0  ...      NaN       NaN         0.0        NaN   \n",
       "25       0.0     0.0    0.0  ...      NaN       NaN         0.0        NaN   \n",
       "33       0.0     0.0    0.0  ...      NaN       NaN         0.0        NaN   \n",
       "34       0.0     0.0    0.0  ...      NaN       NaN         0.0        NaN   \n",
       "\n",
       "                       createdOn                    modifiedOn  startStop  \\\n",
       "0   Tue Jan 01 00:00:00 EST 2013  Tue Jan 01 00:00:00 EST 2013        NaN   \n",
       "14  Tue Jan 01 00:00:00 EST 2013  Tue Jan 01 00:00:00 EST 2013        NaN   \n",
       "25  Tue Jan 01 00:00:00 EST 2013  Tue Jan 01 00:00:00 EST 2013        NaN   \n",
       "33  Tue Jan 01 00:00:00 EST 2013  Tue Jan 01 00:00:00 EST 2013        NaN   \n",
       "34  Tue Jan 01 00:00:00 EST 2013  Tue Jan 01 00:00:00 EST 2013        NaN   \n",
       "\n",
       "    phevCity  phevHwy  phevComb  \n",
       "0          0        0         0  \n",
       "14         0        0         0  \n",
       "25         0        0         0  \n",
       "33         0        0         0  \n",
       "34         0        0         0  \n",
       "\n",
       "[5 rows x 83 columns]"
      ]
     },
     "execution_count": 74,
     "metadata": {},
     "output_type": "execute_result"
    }
   ],
   "source": [
    "data.drop(index=outliers.index).head()  # datos sin outliers"
   ]
  },
  {
   "cell_type": "code",
   "execution_count": 81,
   "id": "43eb921a",
   "metadata": {},
   "outputs": [
    {
     "data": {
      "text/plain": [
       "Pandas(Index=0, barrelsA08=0.0, charge120=0.0)"
      ]
     },
     "execution_count": 81,
     "metadata": {},
     "output_type": "execute_result"
    }
   ],
   "source": [
    "list(data[['barrelsA08', 'charge120']].itertuples())[0]"
   ]
  },
  {
   "cell_type": "code",
   "execution_count": 84,
   "id": "d5bdb36e",
   "metadata": {},
   "outputs": [
    {
     "data": {
      "text/plain": [
       "barrelsA08    0.0\n",
       "charge120     0.0\n",
       "Name: 0, dtype: float64"
      ]
     },
     "execution_count": 84,
     "metadata": {},
     "output_type": "execute_result"
    }
   ],
   "source": [
    "data[['barrelsA08', 'charge120']].loc[0]"
   ]
  },
  {
   "cell_type": "code",
   "execution_count": 96,
   "id": "5b5284d8",
   "metadata": {},
   "outputs": [
    {
     "ename": "TypeError",
     "evalue": "head() got an unexpected keyword argument 'inplace'",
     "output_type": "error",
     "traceback": [
      "\u001b[0;31m---------------------------------------------------------------------------\u001b[0m",
      "\u001b[0;31mTypeError\u001b[0m                                 Traceback (most recent call last)",
      "Cell \u001b[0;32mIn[96], line 1\u001b[0m\n\u001b[0;32m----> 1\u001b[0m \u001b[43mdata\u001b[49m\u001b[38;5;241;43m.\u001b[39;49m\u001b[43mhead\u001b[49m\u001b[43m(\u001b[49m\u001b[43minplace\u001b[49m\u001b[38;5;241;43m=\u001b[39;49m\u001b[38;5;28;43;01mTrue\u001b[39;49;00m\u001b[43m)\u001b[49m\n",
      "\u001b[0;31mTypeError\u001b[0m: head() got an unexpected keyword argument 'inplace'"
     ]
    }
   ],
   "source": [
    "data.head(inplace=True)"
   ]
  },
  {
   "cell_type": "markdown",
   "id": "193875be",
   "metadata": {},
   "source": [
    "### 4 - List Comprehension"
   ]
  },
  {
   "cell_type": "code",
   "execution_count": 86,
   "id": "d53b2613",
   "metadata": {},
   "outputs": [
    {
     "data": {
      "text/plain": [
       "['a', 1, 'a', 3, 'a', 5, 'a', 7, 'a', 9]"
      ]
     },
     "execution_count": 86,
     "metadata": {},
     "output_type": "execute_result"
    }
   ],
   "source": [
    "lst = []\n",
    "\n",
    "for i in range(10):\n",
    "    \n",
    "    if i%2==0:   # si es par añade letra a\n",
    "        \n",
    "        lst.append('a')\n",
    "        \n",
    "    else:\n",
    "        \n",
    "        lst.append(i)\n",
    "        \n",
    "lst"
   ]
  },
  {
   "cell_type": "code",
   "execution_count": 87,
   "id": "7e98c649",
   "metadata": {},
   "outputs": [
    {
     "data": {
      "text/plain": [
       "['a', 'a', 'a', 'a', 'a']"
      ]
     },
     "execution_count": 87,
     "metadata": {},
     "output_type": "execute_result"
    }
   ],
   "source": [
    "lst = ['a' for i in range(10) if i%2==0]\n",
    "\n",
    "lst"
   ]
  },
  {
   "cell_type": "code",
   "execution_count": 88,
   "id": "053aa966",
   "metadata": {},
   "outputs": [
    {
     "data": {
      "text/plain": [
       "['a', 1, 'a', 3, 'a', 5, 'a', 7, 'a', 9]"
      ]
     },
     "execution_count": 88,
     "metadata": {},
     "output_type": "execute_result"
    }
   ],
   "source": [
    "lst = ['a' if i%2==0 else i for i in range(10)]\n",
    "\n",
    "lst"
   ]
  },
  {
   "cell_type": "code",
   "execution_count": 89,
   "id": "7ac0f21e",
   "metadata": {},
   "outputs": [
    {
     "ename": "SyntaxError",
     "evalue": "invalid syntax (1292617507.py, line 1)",
     "output_type": "error",
     "traceback": [
      "\u001b[0;36m  Cell \u001b[0;32mIn[89], line 1\u001b[0;36m\u001b[0m\n\u001b[0;31m    lst = ['a' for i in range(10) if i%2==0 else i]\u001b[0m\n\u001b[0m                                            ^\u001b[0m\n\u001b[0;31mSyntaxError\u001b[0m\u001b[0;31m:\u001b[0m invalid syntax\n"
     ]
    }
   ],
   "source": [
    "lst = ['a' for i in range(10) if i%2==0 else i]\n",
    "\n",
    "lst"
   ]
  },
  {
   "cell_type": "code",
   "execution_count": 90,
   "id": "fd0fe89b",
   "metadata": {},
   "outputs": [
    {
     "data": {
      "text/plain": [
       "['a', 1, 'a', 3, 'a', 5, 'a', 'hola', 'a', 9]"
      ]
     },
     "execution_count": 90,
     "metadata": {},
     "output_type": "execute_result"
    }
   ],
   "source": [
    "lst = []\n",
    "\n",
    "for i in range(10):\n",
    "    \n",
    "    if i%2==0:   # si es par añade letra a\n",
    "        lst.append('a')\n",
    "        \n",
    "    elif i==7:\n",
    "        lst.append('hola')\n",
    "        \n",
    "    else:\n",
    "        lst.append(i)\n",
    "        \n",
    "lst"
   ]
  },
  {
   "cell_type": "code",
   "execution_count": 92,
   "id": "e3d0c0d6",
   "metadata": {},
   "outputs": [
    {
     "data": {
      "text/plain": [
       "['a', 1, 'a', 3, 'a', 5, 'a', 'hola', 'a', 9]"
      ]
     },
     "execution_count": 92,
     "metadata": {},
     "output_type": "execute_result"
    }
   ],
   "source": [
    "lst = ['a' if i%2==0 else ('hola' if i==7 else i) for i in range(10)]\n",
    "\n",
    "lst"
   ]
  },
  {
   "cell_type": "code",
   "execution_count": null,
   "id": "31cdf26e",
   "metadata": {},
   "outputs": [],
   "source": []
  }
 ],
 "metadata": {
  "kernelspec": {
   "display_name": "clase",
   "language": "python",
   "name": "clase"
  },
  "language_info": {
   "codemirror_mode": {
    "name": "ipython",
    "version": 3
   },
   "file_extension": ".py",
   "mimetype": "text/x-python",
   "name": "python",
   "nbconvert_exporter": "python",
   "pygments_lexer": "ipython3",
   "version": "3.9.12"
  }
 },
 "nbformat": 4,
 "nbformat_minor": 5
}
