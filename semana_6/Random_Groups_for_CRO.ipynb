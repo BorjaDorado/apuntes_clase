{
 "cells": [
  {
   "cell_type": "code",
   "execution_count": 1,
   "id": "153c5ed9",
   "metadata": {},
   "outputs": [],
   "source": [
    "import random"
   ]
  },
  {
   "cell_type": "code",
   "execution_count": 2,
   "id": "42ddf9be",
   "metadata": {},
   "outputs": [
    {
     "data": {
      "text/plain": [
       "16"
      ]
     },
     "execution_count": 2,
     "metadata": {},
     "output_type": "execute_result"
    }
   ],
   "source": [
    "data = ['Borja Dorado', 'Borja Dolagaray', 'Carlos', 'David', 'Demian',\n",
    "        'Esteban', 'Xavier', 'Ibai', 'Jaime', 'Lola', 'Margarita',\n",
    "        'Marta', 'Marta R.', 'Nico Villanova', 'Nico Garcia-Cos', 'Rodrigo']\n",
    "\n",
    "len(data)"
   ]
  },
  {
   "cell_type": "code",
   "execution_count": 3,
   "id": "787d76b8",
   "metadata": {},
   "outputs": [
    {
     "data": {
      "text/plain": [
       "8"
      ]
     },
     "execution_count": 3,
     "metadata": {},
     "output_type": "execute_result"
    }
   ],
   "source": [
    "ux = ['Rubén', 'Diana', 'Andrea', 'Alejandra', 'Eva', 'Raquel', 'Silvia', 'María']\n",
    "\n",
    "len(ux)"
   ]
  },
  {
   "cell_type": "code",
   "execution_count": 4,
   "id": "5589b359",
   "metadata": {},
   "outputs": [],
   "source": [
    "grupos = {}\n",
    "\n",
    "\n",
    "for i in range(4):\n",
    "    \n",
    "    data_tmp = random.sample(data, k=4)\n",
    "    \n",
    "    ux_tmp = random.sample(ux, k=2)\n",
    "    \n",
    "    grupos[i] = data_tmp + ux_tmp\n",
    "    \n",
    "    for e in data_tmp:\n",
    "        data.remove(e)\n",
    "        \n",
    "    for e in ux_tmp:\n",
    "        ux.remove(e)\n",
    "    \n",
    "    "
   ]
  },
  {
   "cell_type": "code",
   "execution_count": 5,
   "id": "8dcb9d7e",
   "metadata": {},
   "outputs": [
    {
     "data": {
      "text/plain": [
       "['Nico Garcia-Cos', 'Xavier', 'David', 'Esteban', 'Rubén', 'María']"
      ]
     },
     "execution_count": 5,
     "metadata": {},
     "output_type": "execute_result"
    }
   ],
   "source": [
    "grupos[0]"
   ]
  },
  {
   "cell_type": "code",
   "execution_count": 6,
   "id": "4a469f87",
   "metadata": {},
   "outputs": [
    {
     "data": {
      "text/plain": [
       "['Marta R.', 'Nico Villanova', 'Carlos', 'Margarita', 'Raquel', 'Eva']"
      ]
     },
     "execution_count": 6,
     "metadata": {},
     "output_type": "execute_result"
    }
   ],
   "source": [
    "grupos[1]"
   ]
  },
  {
   "cell_type": "code",
   "execution_count": 7,
   "id": "5242cb6c",
   "metadata": {},
   "outputs": [
    {
     "data": {
      "text/plain": [
       "['Lola', 'Ibai', 'Marta', 'Jaime', 'Silvia', 'Diana']"
      ]
     },
     "execution_count": 7,
     "metadata": {},
     "output_type": "execute_result"
    }
   ],
   "source": [
    "grupos[2]"
   ]
  },
  {
   "cell_type": "code",
   "execution_count": 8,
   "id": "d482ea5b",
   "metadata": {},
   "outputs": [
    {
     "data": {
      "text/plain": [
       "['Borja Dorado', 'Demian', 'Borja Dolagaray', 'Rodrigo', 'Andrea', 'Alejandra']"
      ]
     },
     "execution_count": 8,
     "metadata": {},
     "output_type": "execute_result"
    }
   ],
   "source": [
    "grupos[3]"
   ]
  },
  {
   "cell_type": "code",
   "execution_count": null,
   "id": "88eb4012",
   "metadata": {},
   "outputs": [],
   "source": []
  }
 ],
 "metadata": {
  "kernelspec": {
   "display_name": "clase",
   "language": "python",
   "name": "clase"
  },
  "language_info": {
   "codemirror_mode": {
    "name": "ipython",
    "version": 3
   },
   "file_extension": ".py",
   "mimetype": "text/x-python",
   "name": "python",
   "nbconvert_exporter": "python",
   "pygments_lexer": "ipython3",
   "version": "3.9.12"
  }
 },
 "nbformat": 4,
 "nbformat_minor": 5
}
